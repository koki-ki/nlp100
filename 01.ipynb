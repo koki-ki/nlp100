{
 "cells": [
  {
   "cell_type": "markdown",
   "metadata": {},
   "source": [
    "00. 文字列の逆順"
   ]
  },
  {
   "cell_type": "code",
   "execution_count": 1,
   "metadata": {},
   "outputs": [
    {
     "name": "stdout",
     "output_type": "stream",
     "text": [
      "desserts\n"
     ]
    }
   ],
   "source": [
    "s = \"stressed\"\n",
    "print(s[::-1])"
   ]
  },
  {
   "cell_type": "markdown",
   "metadata": {},
   "source": [
    "1. 「パタトクカシー」"
   ]
  },
  {
   "cell_type": "code",
   "execution_count": 5,
   "metadata": {},
   "outputs": [
    {
     "name": "stdout",
     "output_type": "stream",
     "text": [
      "パトカー\n"
     ]
    }
   ],
   "source": [
    "s = \"パタトクカシー\"\n",
    "print(s[::2])"
   ]
  },
  {
   "cell_type": "markdown",
   "metadata": {},
   "source": [
    "02. 「パトカー」＋「タクシー」＝「パタトクカシーー」"
   ]
  },
  {
   "cell_type": "code",
   "execution_count": 6,
   "metadata": {},
   "outputs": [
    {
     "name": "stdout",
     "output_type": "stream",
     "text": [
      "パタトクカシーー\n"
     ]
    }
   ],
   "source": [
    "s1 = \"パトカー\"\n",
    "s2 = \"タクシー\"\n",
    "s = \"\".join([char1 + char2 for char1, char2 in zip(s1, s2)])\n",
    "print(s)"
   ]
  },
  {
   "cell_type": "markdown",
   "metadata": {},
   "source": [
    "03. 円周率"
   ]
  },
  {
   "cell_type": "code",
   "execution_count": 9,
   "metadata": {},
   "outputs": [
    {
     "name": "stdout",
     "output_type": "stream",
     "text": [
      "[3, 1, 4, 1, 5, 9, 2, 6, 5, 3, 5, 8, 9, 7, 9]\n"
     ]
    }
   ],
   "source": [
    "s = \"Now I need a drink, alcoholic of course, after the heavy lectures involving quantum mechanics.\"\n",
    "s = s.replace(\",\", \"\").replace(\".\", \"\")\n",
    "words = s.split()\n",
    "print([len(word) for word in words])"
   ]
  },
  {
   "cell_type": "markdown",
   "metadata": {},
   "source": [
    "04. 元素記号"
   ]
  },
  {
   "cell_type": "code",
   "execution_count": 10,
   "metadata": {},
   "outputs": [],
   "source": [
    "s = \"Hi He Lied Because Boron Could Not Oxidize Fluorine. New Nations Might Also Sign Peace Security Clause. Arthur King Can.\"\n",
    "s = s.replace(\",\", \"\").replace(\".\", \"\")\n",
    "atomic_numbers = set([1, 5, 6, 7, 8, 9, 15, 16, 19])\n",
    "words = s.split()\n",
    "dic = {}\n",
    "\n",
    "for i, word in enumerate(words, 1):\n",
    "    if i in atomic_numbers:\n",
    "        dic[word[:1]] = i\n",
    "    else:\n",
    "        dic[word[:2]] = i\n"
   ]
  },
  {
   "cell_type": "markdown",
   "metadata": {},
   "source": [
    "05. n-gram"
   ]
  },
  {
   "cell_type": "code",
   "execution_count": 13,
   "metadata": {},
   "outputs": [
    {
     "name": "stdout",
     "output_type": "stream",
     "text": [
      "[['I', 'am'], ['am', 'an'], ['an', 'NLPer']]\n",
      "['Ia', 'am', 'ma', 'an', 'nN', 'NL', 'LP', 'Pe', 'er']\n"
     ]
    }
   ],
   "source": [
    "def make_n_gram(n: int, text: str) -> list:\n",
    "    word_bi_gram = []\n",
    "    char_bi_gram = []\n",
    "    text = text.replace(\",\", \"\").replace(\".\", \"\")\n",
    "    words = text.split()\n",
    "\n",
    "    for i in range(len(words) - (n - 1)):\n",
    "        word_bi_gram.append(words[i:i+n])\n",
    "\n",
    "    text = text.replace(\" \", \"\")\n",
    "    for i in range(len(text) - (n - 1)):\n",
    "        char_bi_gram.append(text[i:i+n])\n",
    "\n",
    "    return word_bi_gram, char_bi_gram\n",
    "\n",
    "\n",
    "n = 2\n",
    "text = \"I am an NLPer\"\n",
    "\n",
    "word_bi_gram, char_bi_gram = make_n_gram(n, text)\n",
    "print(word_bi_gram)\n",
    "print(char_bi_gram)"
   ]
  },
  {
   "cell_type": "markdown",
   "metadata": {},
   "source": [
    "6. 集合"
   ]
  },
  {
   "cell_type": "code",
   "execution_count": 14,
   "metadata": {},
   "outputs": [
    {
     "name": "stdout",
     "output_type": "stream",
     "text": [
      "{'se', 'gr', 'ph', 'ag', 'ap', 'ad', 'is', 'ra', 'ar', 'di', 'pa'}\n",
      "{'ap', 'pa', 'ra', 'ar'}\n",
      "{'se', 'di', 'is', 'ad'}\n",
      "'se' in x is True\n",
      "'se' in y is False\n"
     ]
    }
   ],
   "source": [
    "text1 = \"paraparaparadise\"\n",
    "text2 = \"paragraph\"\n",
    "\n",
    "x = set(make_n_gram(2, text1)[1])\n",
    "y = set(make_n_gram(2, text2)[1])\n",
    "\n",
    "print(x | y)\n",
    "print(x & y)\n",
    "print(x - y)\n",
    "\n",
    "print(\"'se' in x is \" + str(\"se\" in x))\n",
    "print(\"'se' in y is \" + str(\"se\" in y))"
   ]
  },
  {
   "cell_type": "markdown",
   "metadata": {},
   "source": [
    "07. テンプレートによる文生成"
   ]
  },
  {
   "cell_type": "code",
   "execution_count": 16,
   "metadata": {},
   "outputs": [
    {
     "name": "stdout",
     "output_type": "stream",
     "text": [
      "12時の気温は22.4\n"
     ]
    }
   ],
   "source": [
    "x = input(\"x: \")\n",
    "y = input(\"y: \")\n",
    "z = input(\"z: \")\n",
    "\n",
    "print(f\"{x}時の{y}は{z}\")"
   ]
  },
  {
   "cell_type": "markdown",
   "metadata": {},
   "source": [
    "08. 暗号文"
   ]
  },
  {
   "cell_type": "code",
   "execution_count": 18,
   "metadata": {},
   "outputs": [
    {
     "name": "stdout",
     "output_type": "stream",
     "text": [
      "I zn zm NLPvi\n",
      "I am an NLPer\n"
     ]
    }
   ],
   "source": [
    "from string import ascii_lowercase\n",
    "\n",
    "def cipher(s: str) -> str:\n",
    "    cip = \"\"\n",
    "    for ch in s:\n",
    "        if ch in ascii_lowercase:\n",
    "            cip += chr(219 - ord(ch))\n",
    "        else:\n",
    "            cip += ch\n",
    "    return cip\n",
    "\n",
    "test = \"I am an NLPer\"\n",
    "encoded = cipher(test)\n",
    "print(encoded)\n",
    "decoded = cipher(encoded)\n",
    "print(decoded)\n"
   ]
  },
  {
   "cell_type": "markdown",
   "metadata": {},
   "source": [
    "09. Typoglycemia\n"
   ]
  },
  {
   "cell_type": "code",
   "execution_count": 20,
   "metadata": {},
   "outputs": [
    {
     "name": "stdout",
     "output_type": "stream",
     "text": [
      "I cnu'odlt bievele that I colud aclautly uarnsentdd what I was rdeniag : the pnnehemaol peowr of the hamun mind .\n"
     ]
    }
   ],
   "source": [
    "import random\n",
    "\n",
    "def shuffle_words(text: str) -> str:\n",
    "    words = text.split()\n",
    "    shuffled = []\n",
    "    for word in words:\n",
    "        if len(word) > 4:\n",
    "            word = word[:1] + \"\".join(random.sample(word[1:-1], len(word) - 2)) + word[-1]\n",
    "        shuffled.append(word)\n",
    "    return \" \".join(shuffled)\n",
    "\n",
    "test = \"I couldn't believe that I could actually understand what I was reading : the phenomenal power of the human mind .\"\n",
    "print(shuffle_words(test))"
   ]
  },
  {
   "cell_type": "code",
   "execution_count": null,
   "metadata": {},
   "outputs": [],
   "source": []
  }
 ],
 "metadata": {
  "kernelspec": {
   "display_name": "venv",
   "language": "python",
   "name": "python3"
  },
  "language_info": {
   "codemirror_mode": {
    "name": "ipython",
    "version": 3
   },
   "file_extension": ".py",
   "mimetype": "text/x-python",
   "name": "python",
   "nbconvert_exporter": "python",
   "pygments_lexer": "ipython3",
   "version": "3.11.5"
  }
 },
 "nbformat": 4,
 "nbformat_minor": 2
}
